{
 "cells": [
  {
   "cell_type": "code",
   "id": "initial_id",
   "metadata": {
    "collapsed": true,
    "ExecuteTime": {
     "end_time": "2024-10-25T15:42:38.117767Z",
     "start_time": "2024-10-25T15:42:38.114067Z"
    }
   },
   "source": [
    "import asyncio\n",
    "import time"
   ],
   "outputs": [],
   "execution_count": 13
  },
  {
   "metadata": {
    "ExecuteTime": {
     "end_time": "2024-10-25T15:42:41.221039Z",
     "start_time": "2024-10-25T15:42:41.215352Z"
    }
   },
   "cell_type": "code",
   "source": [
    "# Синхронная функция\n",
    "def get_data_from_database(query: str):\n",
    "    print(f\"Получен запрос {query}\")\n",
    "    if query == \"Сочи\":\n",
    "        time.sleep(4)\n",
    "    elif query == \"Дубай\":\n",
    "        time.sleep(2)\n",
    "    print(f\"Данные получены: {query}\")"
   ],
   "id": "2d8d5d186690d73a",
   "outputs": [],
   "execution_count": 14
  },
  {
   "metadata": {
    "ExecuteTime": {
     "end_time": "2024-10-25T15:42:49.660424Z",
     "start_time": "2024-10-25T15:42:43.654628Z"
    }
   },
   "cell_type": "code",
   "source": [
    "# Вызов синхронных методов \n",
    "get_data_from_database(query=\"Сочи\")\n",
    "get_data_from_database(query=\"Дубай\")"
   ],
   "id": "405ee6a5a1de3a75",
   "outputs": [
    {
     "name": "stdout",
     "output_type": "stream",
     "text": [
      "Получен запрос Сочи\n",
      "Данные получены: Сочи\n",
      "Получен запрос Дубай\n",
      "Данные получены: Дубай\n"
     ]
    }
   ],
   "execution_count": 15
  },
  {
   "metadata": {
    "ExecuteTime": {
     "end_time": "2024-10-25T15:42:53.057181Z",
     "start_time": "2024-10-25T15:42:53.054155Z"
    }
   },
   "cell_type": "code",
   "source": [
    "# Асинхронная функция\n",
    "async def get_data_from_database_async(query: str):\n",
    "    print(f\"Получен запрос: {query}\")\n",
    "    if query == \"Сочи\":\n",
    "        await asyncio.sleep(4)\n",
    "    elif query == \"Дубай\":\n",
    "        await asyncio.sleep(2)\n",
    "    print(f\"Данные получены: {query}\")\n",
    "    return \"Results\"\n"
   ],
   "id": "29ff1031594ce907",
   "outputs": [],
   "execution_count": 16
  },
  {
   "metadata": {
    "ExecuteTime": {
     "end_time": "2024-10-25T15:42:59.591958Z",
     "start_time": "2024-10-25T15:42:55.575330Z"
    }
   },
   "cell_type": "code",
   "source": [
    "# Вызов синхронных методов \n",
    "await  get_data_from_database(query=\"Сочи\")\n",
    "await  get_data_from_database(query=\"Дубай\")"
   ],
   "id": "5c4b26cb5334b890",
   "outputs": [
    {
     "name": "stdout",
     "output_type": "stream",
     "text": [
      "Получен запрос Сочи\n",
      "Данные получены: Сочи\n"
     ]
    },
    {
     "ename": "TypeError",
     "evalue": "object NoneType can't be used in 'await' expression",
     "output_type": "error",
     "traceback": [
      "\u001B[0;31m---------------------------------------------------------------------------\u001B[0m",
      "\u001B[0;31mTypeError\u001B[0m                                 Traceback (most recent call last)",
      "Cell \u001B[0;32mIn[17], line 2\u001B[0m\n\u001B[1;32m      1\u001B[0m \u001B[38;5;66;03m# Вызов синхронных методов \u001B[39;00m\n\u001B[0;32m----> 2\u001B[0m \u001B[38;5;28;01mawait\u001B[39;00m  get_data_from_database(query\u001B[38;5;241m=\u001B[39m\u001B[38;5;124m\"\u001B[39m\u001B[38;5;124mСочи\u001B[39m\u001B[38;5;124m\"\u001B[39m)\n\u001B[1;32m      3\u001B[0m \u001B[38;5;28;01mawait\u001B[39;00m  get_data_from_database(query\u001B[38;5;241m=\u001B[39m\u001B[38;5;124m\"\u001B[39m\u001B[38;5;124mДубай\u001B[39m\u001B[38;5;124m\"\u001B[39m)\n",
      "\u001B[0;31mTypeError\u001B[0m: object NoneType can't be used in 'await' expression"
     ]
    }
   ],
   "execution_count": 17
  },
  {
   "metadata": {
    "ExecuteTime": {
     "end_time": "2024-10-25T15:43:10.445739Z",
     "start_time": "2024-10-25T15:43:06.434730Z"
    }
   },
   "cell_type": "code",
   "source": [
    "# Пример асинхронного вызова с использованием asyncio.gather\n",
    "await asyncio.gather(\n",
    "    get_data_from_database_async(\"Сочи\"),\n",
    "    get_data_from_database_async(\"Сочи\"),\n",
    "    get_data_from_database_async(\"Сочи\"),\n",
    "    get_data_from_database_async(\"Сочи\"),\n",
    "    get_data_from_database_async(\"Сочи\"),\n",
    "    get_data_from_database_async(\"Сочи\"),\n",
    "    get_data_from_database_async(\"Дубай\"),\n",
    "    get_data_from_database_async(\"Дубай\"),\n",
    "    get_data_from_database_async(\"Дубай\"),\n",
    "    get_data_from_database_async(\"Дубай\"),\n",
    ")"
   ],
   "id": "69f373bd40bc63",
   "outputs": [
    {
     "name": "stdout",
     "output_type": "stream",
     "text": [
      "Получен запрос: Сочи\n",
      "Получен запрос: Сочи\n",
      "Получен запрос: Сочи\n",
      "Получен запрос: Сочи\n",
      "Получен запрос: Сочи\n",
      "Получен запрос: Сочи\n",
      "Получен запрос: Дубай\n",
      "Получен запрос: Дубай\n",
      "Получен запрос: Дубай\n",
      "Получен запрос: Дубай\n",
      "Данные получены: Дубай\n",
      "Данные получены: Дубай\n",
      "Данные получены: Дубай\n",
      "Данные получены: Дубай\n",
      "Данные получены: Сочи\n",
      "Данные получены: Сочи\n",
      "Данные получены: Сочи\n",
      "Данные получены: Сочи\n",
      "Данные получены: Сочи\n",
      "Данные получены: Сочи\n"
     ]
    },
    {
     "data": {
      "text/plain": [
       "['Results',\n",
       " 'Results',\n",
       " 'Results',\n",
       " 'Results',\n",
       " 'Results',\n",
       " 'Results',\n",
       " 'Results',\n",
       " 'Results',\n",
       " 'Results',\n",
       " 'Results']"
      ]
     },
     "execution_count": 18,
     "metadata": {},
     "output_type": "execute_result"
    }
   ],
   "execution_count": 18
  }
 ],
 "metadata": {
  "kernelspec": {
   "display_name": "Python 3",
   "language": "python",
   "name": "python3"
  },
  "language_info": {
   "codemirror_mode": {
    "name": "ipython",
    "version": 2
   },
   "file_extension": ".py",
   "mimetype": "text/x-python",
   "name": "python",
   "nbconvert_exporter": "python",
   "pygments_lexer": "ipython2",
   "version": "2.7.6"
  }
 },
 "nbformat": 4,
 "nbformat_minor": 5
}
